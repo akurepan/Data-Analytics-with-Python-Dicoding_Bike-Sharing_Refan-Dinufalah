{
 "cells": [
  {
   "cell_type": "markdown",
   "metadata": {
    "id": "047j0ckWHmHZ"
   },
   "source": [
    "# **Proyek Analisis Data : Bike-sharing-dataset**\n",
    "\n",
    "\n",
    "*   Nama : Refan Dinufalah\n",
    "*   Email : M313B4KY3725@bangkit.academy"
   ]
  },
  {
   "cell_type": "markdown",
   "metadata": {
    "id": "xYivGZtMIZzt"
   },
   "source": [
    "## **Menentukan Pertanyaan Bisnis**\n",
    "\n",
    "#### 1.   Bagaimana pengaruh cuaca terhadap jumlah peminjaman sepeda? ####\n",
    "#### 2.   Kapan waktu peminjaman sepeda paling ramai berdasarkan hari dalam seminggu dan jam dalam sehari? ####\n",
    "#### 3.   Bagaimana tren jumlah peminjaman sepeda berdasarkan musim? ####\n",
    "#### 4.   Apakah ada korelasi antara suhu (temperature) dan jumlah peminjaman sepeda? ####\n"
   ]
  },
  {
   "cell_type": "markdown",
   "metadata": {
    "id": "uJswLhJMJPLL"
   },
   "source": [
    "## **Menyiapkan Semua Library yang dibutuhkan**\n",
    "\n"
   ]
  },
  {
   "cell_type": "code",
   "execution_count": 30,
   "metadata": {
    "id": "Q6XaiWtaJ6pv"
   },
   "outputs": [],
   "source": [
    "# Importing libraries\n",
    "import numpy as np\n",
    "import pandas as pd\n",
    "import matplotlib.pyplot as plt\n",
    "import matplotlib.image as mpimg\n",
    "import seaborn as sns"
   ]
  },
  {
   "cell_type": "markdown",
   "metadata": {
    "id": "Liu88UBwKAYj"
   },
   "source": [
    "### **1. Data Wrangling**"
   ]
  },
  {
   "cell_type": "markdown",
   "metadata": {
    "id": "Ccu6UWnkKPvb"
   },
   "source": [
    "#### **1.1 Gathering Data**\n"
   ]
  },
  {
   "cell_type": "code",
   "execution_count": 32,
   "metadata": {},
   "outputs": [],
   "source": [
    "day = pd.read_csv('data/day.csv')\n",
    "hour = pd.read_csv('data/hour.csv')\n",
    "\n",
    "data = {'day': day,\n",
    "        'hour': hour}"
   ]
  },
  {
   "cell_type": "code",
   "execution_count": 33,
   "metadata": {
    "colab": {
     "base_uri": "https://localhost:8080/",
     "height": 313
    },
    "id": "yAzHV5XpK5uT",
    "outputId": "273aa2e4-f32e-4d08-f21a-612b01489d85"
   },
   "outputs": [
    {
     "data": {
      "text/html": [
       "<div>\n",
       "<style scoped>\n",
       "    .dataframe tbody tr th:only-of-type {\n",
       "        vertical-align: middle;\n",
       "    }\n",
       "\n",
       "    .dataframe tbody tr th {\n",
       "        vertical-align: top;\n",
       "    }\n",
       "\n",
       "    .dataframe thead th {\n",
       "        text-align: right;\n",
       "    }\n",
       "</style>\n",
       "<table border=\"1\" class=\"dataframe\">\n",
       "  <thead>\n",
       "    <tr style=\"text-align: right;\">\n",
       "      <th></th>\n",
       "      <th>instant</th>\n",
       "      <th>dteday</th>\n",
       "      <th>season</th>\n",
       "      <th>yr</th>\n",
       "      <th>mnth</th>\n",
       "      <th>holiday</th>\n",
       "      <th>weekday</th>\n",
       "      <th>workingday</th>\n",
       "      <th>weathersit</th>\n",
       "      <th>temp</th>\n",
       "      <th>atemp</th>\n",
       "      <th>hum</th>\n",
       "      <th>windspeed</th>\n",
       "      <th>casual</th>\n",
       "      <th>registered</th>\n",
       "      <th>cnt</th>\n",
       "    </tr>\n",
       "  </thead>\n",
       "  <tbody>\n",
       "    <tr>\n",
       "      <th>0</th>\n",
       "      <td>1</td>\n",
       "      <td>2011-01-01</td>\n",
       "      <td>1</td>\n",
       "      <td>0</td>\n",
       "      <td>1</td>\n",
       "      <td>0</td>\n",
       "      <td>6</td>\n",
       "      <td>0</td>\n",
       "      <td>2</td>\n",
       "      <td>0.344167</td>\n",
       "      <td>0.363625</td>\n",
       "      <td>0.805833</td>\n",
       "      <td>0.160446</td>\n",
       "      <td>331</td>\n",
       "      <td>654</td>\n",
       "      <td>985</td>\n",
       "    </tr>\n",
       "    <tr>\n",
       "      <th>1</th>\n",
       "      <td>2</td>\n",
       "      <td>2011-01-02</td>\n",
       "      <td>1</td>\n",
       "      <td>0</td>\n",
       "      <td>1</td>\n",
       "      <td>0</td>\n",
       "      <td>0</td>\n",
       "      <td>0</td>\n",
       "      <td>2</td>\n",
       "      <td>0.363478</td>\n",
       "      <td>0.353739</td>\n",
       "      <td>0.696087</td>\n",
       "      <td>0.248539</td>\n",
       "      <td>131</td>\n",
       "      <td>670</td>\n",
       "      <td>801</td>\n",
       "    </tr>\n",
       "    <tr>\n",
       "      <th>2</th>\n",
       "      <td>3</td>\n",
       "      <td>2011-01-03</td>\n",
       "      <td>1</td>\n",
       "      <td>0</td>\n",
       "      <td>1</td>\n",
       "      <td>0</td>\n",
       "      <td>1</td>\n",
       "      <td>1</td>\n",
       "      <td>1</td>\n",
       "      <td>0.196364</td>\n",
       "      <td>0.189405</td>\n",
       "      <td>0.437273</td>\n",
       "      <td>0.248309</td>\n",
       "      <td>120</td>\n",
       "      <td>1229</td>\n",
       "      <td>1349</td>\n",
       "    </tr>\n",
       "    <tr>\n",
       "      <th>3</th>\n",
       "      <td>4</td>\n",
       "      <td>2011-01-04</td>\n",
       "      <td>1</td>\n",
       "      <td>0</td>\n",
       "      <td>1</td>\n",
       "      <td>0</td>\n",
       "      <td>2</td>\n",
       "      <td>1</td>\n",
       "      <td>1</td>\n",
       "      <td>0.200000</td>\n",
       "      <td>0.212122</td>\n",
       "      <td>0.590435</td>\n",
       "      <td>0.160296</td>\n",
       "      <td>108</td>\n",
       "      <td>1454</td>\n",
       "      <td>1562</td>\n",
       "    </tr>\n",
       "    <tr>\n",
       "      <th>4</th>\n",
       "      <td>5</td>\n",
       "      <td>2011-01-05</td>\n",
       "      <td>1</td>\n",
       "      <td>0</td>\n",
       "      <td>1</td>\n",
       "      <td>0</td>\n",
       "      <td>3</td>\n",
       "      <td>1</td>\n",
       "      <td>1</td>\n",
       "      <td>0.226957</td>\n",
       "      <td>0.229270</td>\n",
       "      <td>0.436957</td>\n",
       "      <td>0.186900</td>\n",
       "      <td>82</td>\n",
       "      <td>1518</td>\n",
       "      <td>1600</td>\n",
       "    </tr>\n",
       "  </tbody>\n",
       "</table>\n",
       "</div>"
      ],
      "text/plain": [
       "   instant      dteday  season  yr  mnth  holiday  weekday  workingday  \\\n",
       "0        1  2011-01-01       1   0     1        0        6           0   \n",
       "1        2  2011-01-02       1   0     1        0        0           0   \n",
       "2        3  2011-01-03       1   0     1        0        1           1   \n",
       "3        4  2011-01-04       1   0     1        0        2           1   \n",
       "4        5  2011-01-05       1   0     1        0        3           1   \n",
       "\n",
       "   weathersit      temp     atemp       hum  windspeed  casual  registered  \\\n",
       "0           2  0.344167  0.363625  0.805833   0.160446     331         654   \n",
       "1           2  0.363478  0.353739  0.696087   0.248539     131         670   \n",
       "2           1  0.196364  0.189405  0.437273   0.248309     120        1229   \n",
       "3           1  0.200000  0.212122  0.590435   0.160296     108        1454   \n",
       "4           1  0.226957  0.229270  0.436957   0.186900      82        1518   \n",
       "\n",
       "    cnt  \n",
       "0   985  \n",
       "1   801  \n",
       "2  1349  \n",
       "3  1562  \n",
       "4  1600  "
      ]
     },
     "execution_count": 33,
     "metadata": {},
     "output_type": "execute_result"
    }
   ],
   "source": [
    "data['day'].head()"
   ]
  },
  {
   "cell_type": "markdown",
   "metadata": {
    "id": "xCBMnXRzM-AF"
   },
   "source": [
    "Menampilkan 5 data teratas dari tabel **day**\n",
    "\n",
    "---\n",
    "\n"
   ]
  },
  {
   "cell_type": "code",
   "execution_count": 4,
   "metadata": {
    "colab": {
     "base_uri": "https://localhost:8080/",
     "height": 293
    },
    "id": "_x8O98deLBmu",
    "outputId": "86d6d92c-cbf4-46af-d30d-d3047bccf63d"
   },
   "outputs": [
    {
     "data": {
      "text/html": [
       "<div>\n",
       "<style scoped>\n",
       "    .dataframe tbody tr th:only-of-type {\n",
       "        vertical-align: middle;\n",
       "    }\n",
       "\n",
       "    .dataframe tbody tr th {\n",
       "        vertical-align: top;\n",
       "    }\n",
       "\n",
       "    .dataframe thead th {\n",
       "        text-align: right;\n",
       "    }\n",
       "</style>\n",
       "<table border=\"1\" class=\"dataframe\">\n",
       "  <thead>\n",
       "    <tr style=\"text-align: right;\">\n",
       "      <th></th>\n",
       "      <th>instant</th>\n",
       "      <th>dteday</th>\n",
       "      <th>season</th>\n",
       "      <th>yr</th>\n",
       "      <th>mnth</th>\n",
       "      <th>hr</th>\n",
       "      <th>holiday</th>\n",
       "      <th>weekday</th>\n",
       "      <th>workingday</th>\n",
       "      <th>weathersit</th>\n",
       "      <th>temp</th>\n",
       "      <th>atemp</th>\n",
       "      <th>hum</th>\n",
       "      <th>windspeed</th>\n",
       "      <th>casual</th>\n",
       "      <th>registered</th>\n",
       "      <th>cnt</th>\n",
       "    </tr>\n",
       "  </thead>\n",
       "  <tbody>\n",
       "    <tr>\n",
       "      <th>0</th>\n",
       "      <td>1</td>\n",
       "      <td>2011-01-01</td>\n",
       "      <td>1</td>\n",
       "      <td>0</td>\n",
       "      <td>1</td>\n",
       "      <td>0</td>\n",
       "      <td>0</td>\n",
       "      <td>6</td>\n",
       "      <td>0</td>\n",
       "      <td>1</td>\n",
       "      <td>0.24</td>\n",
       "      <td>0.2879</td>\n",
       "      <td>0.81</td>\n",
       "      <td>0.0</td>\n",
       "      <td>3</td>\n",
       "      <td>13</td>\n",
       "      <td>16</td>\n",
       "    </tr>\n",
       "    <tr>\n",
       "      <th>1</th>\n",
       "      <td>2</td>\n",
       "      <td>2011-01-01</td>\n",
       "      <td>1</td>\n",
       "      <td>0</td>\n",
       "      <td>1</td>\n",
       "      <td>1</td>\n",
       "      <td>0</td>\n",
       "      <td>6</td>\n",
       "      <td>0</td>\n",
       "      <td>1</td>\n",
       "      <td>0.22</td>\n",
       "      <td>0.2727</td>\n",
       "      <td>0.80</td>\n",
       "      <td>0.0</td>\n",
       "      <td>8</td>\n",
       "      <td>32</td>\n",
       "      <td>40</td>\n",
       "    </tr>\n",
       "    <tr>\n",
       "      <th>2</th>\n",
       "      <td>3</td>\n",
       "      <td>2011-01-01</td>\n",
       "      <td>1</td>\n",
       "      <td>0</td>\n",
       "      <td>1</td>\n",
       "      <td>2</td>\n",
       "      <td>0</td>\n",
       "      <td>6</td>\n",
       "      <td>0</td>\n",
       "      <td>1</td>\n",
       "      <td>0.22</td>\n",
       "      <td>0.2727</td>\n",
       "      <td>0.80</td>\n",
       "      <td>0.0</td>\n",
       "      <td>5</td>\n",
       "      <td>27</td>\n",
       "      <td>32</td>\n",
       "    </tr>\n",
       "    <tr>\n",
       "      <th>3</th>\n",
       "      <td>4</td>\n",
       "      <td>2011-01-01</td>\n",
       "      <td>1</td>\n",
       "      <td>0</td>\n",
       "      <td>1</td>\n",
       "      <td>3</td>\n",
       "      <td>0</td>\n",
       "      <td>6</td>\n",
       "      <td>0</td>\n",
       "      <td>1</td>\n",
       "      <td>0.24</td>\n",
       "      <td>0.2879</td>\n",
       "      <td>0.75</td>\n",
       "      <td>0.0</td>\n",
       "      <td>3</td>\n",
       "      <td>10</td>\n",
       "      <td>13</td>\n",
       "    </tr>\n",
       "    <tr>\n",
       "      <th>4</th>\n",
       "      <td>5</td>\n",
       "      <td>2011-01-01</td>\n",
       "      <td>1</td>\n",
       "      <td>0</td>\n",
       "      <td>1</td>\n",
       "      <td>4</td>\n",
       "      <td>0</td>\n",
       "      <td>6</td>\n",
       "      <td>0</td>\n",
       "      <td>1</td>\n",
       "      <td>0.24</td>\n",
       "      <td>0.2879</td>\n",
       "      <td>0.75</td>\n",
       "      <td>0.0</td>\n",
       "      <td>0</td>\n",
       "      <td>1</td>\n",
       "      <td>1</td>\n",
       "    </tr>\n",
       "  </tbody>\n",
       "</table>\n",
       "</div>"
      ],
      "text/plain": [
       "   instant      dteday  season  yr  mnth  hr  holiday  weekday  workingday  \\\n",
       "0        1  2011-01-01       1   0     1   0        0        6           0   \n",
       "1        2  2011-01-01       1   0     1   1        0        6           0   \n",
       "2        3  2011-01-01       1   0     1   2        0        6           0   \n",
       "3        4  2011-01-01       1   0     1   3        0        6           0   \n",
       "4        5  2011-01-01       1   0     1   4        0        6           0   \n",
       "\n",
       "   weathersit  temp   atemp   hum  windspeed  casual  registered  cnt  \n",
       "0           1  0.24  0.2879  0.81        0.0       3          13   16  \n",
       "1           1  0.22  0.2727  0.80        0.0       8          32   40  \n",
       "2           1  0.22  0.2727  0.80        0.0       5          27   32  \n",
       "3           1  0.24  0.2879  0.75        0.0       3          10   13  \n",
       "4           1  0.24  0.2879  0.75        0.0       0           1    1  "
      ]
     },
     "execution_count": 4,
     "metadata": {},
     "output_type": "execute_result"
    }
   ],
   "source": [
    "data['hour'].head()"
   ]
  },
  {
   "cell_type": "markdown",
   "metadata": {
    "id": "TibIo7aXNQyq"
   },
   "source": [
    "Menampilkan 5 data teratas dari tabel **hour**\n",
    "\n",
    "---\n",
    "\n"
   ]
  },
  {
   "cell_type": "markdown",
   "metadata": {
    "id": "4qvW2MJFLLIA"
   },
   "source": [
    "#### **1.2 Assesing Data**"
   ]
  },
  {
   "cell_type": "markdown",
   "metadata": {
    "id": "ZT8egnVPLTlp"
   },
   "source": [
    "##### **1.2.1 Periksa Semua Tipe Data** #####"
   ]
  },
  {
   "cell_type": "code",
   "execution_count": 5,
   "metadata": {
    "colab": {
     "base_uri": "https://localhost:8080/"
    },
    "id": "CvrbbT9oLwpb",
    "outputId": "de43bfb2-f4b1-4d0b-9188-c43afc11b340"
   },
   "outputs": [
    {
     "name": "stdout",
     "output_type": "stream",
     "text": [
      "<class 'pandas.core.frame.DataFrame'>\n",
      "RangeIndex: 731 entries, 0 to 730\n",
      "Data columns (total 16 columns):\n",
      " #   Column      Non-Null Count  Dtype  \n",
      "---  ------      --------------  -----  \n",
      " 0   instant     731 non-null    int64  \n",
      " 1   dteday      731 non-null    object \n",
      " 2   season      731 non-null    int64  \n",
      " 3   yr          731 non-null    int64  \n",
      " 4   mnth        731 non-null    int64  \n",
      " 5   holiday     731 non-null    int64  \n",
      " 6   weekday     731 non-null    int64  \n",
      " 7   workingday  731 non-null    int64  \n",
      " 8   weathersit  731 non-null    int64  \n",
      " 9   temp        731 non-null    float64\n",
      " 10  atemp       731 non-null    float64\n",
      " 11  hum         731 non-null    float64\n",
      " 12  windspeed   731 non-null    float64\n",
      " 13  casual      731 non-null    int64  \n",
      " 14  registered  731 non-null    int64  \n",
      " 15  cnt         731 non-null    int64  \n",
      "dtypes: float64(4), int64(11), object(1)\n",
      "memory usage: 91.5+ KB\n",
      "\n",
      " None\n",
      "<class 'pandas.core.frame.DataFrame'>\n",
      "RangeIndex: 17379 entries, 0 to 17378\n",
      "Data columns (total 17 columns):\n",
      " #   Column      Non-Null Count  Dtype  \n",
      "---  ------      --------------  -----  \n",
      " 0   instant     17379 non-null  int64  \n",
      " 1   dteday      17379 non-null  object \n",
      " 2   season      17379 non-null  int64  \n",
      " 3   yr          17379 non-null  int64  \n",
      " 4   mnth        17379 non-null  int64  \n",
      " 5   hr          17379 non-null  int64  \n",
      " 6   holiday     17379 non-null  int64  \n",
      " 7   weekday     17379 non-null  int64  \n",
      " 8   workingday  17379 non-null  int64  \n",
      " 9   weathersit  17379 non-null  int64  \n",
      " 10  temp        17379 non-null  float64\n",
      " 11  atemp       17379 non-null  float64\n",
      " 12  hum         17379 non-null  float64\n",
      " 13  windspeed   17379 non-null  float64\n",
      " 14  casual      17379 non-null  int64  \n",
      " 15  registered  17379 non-null  int64  \n",
      " 16  cnt         17379 non-null  int64  \n",
      "dtypes: float64(4), int64(12), object(1)\n",
      "memory usage: 2.3+ MB\n",
      "\n",
      " None\n"
     ]
    }
   ],
   "source": [
    "for df_name, df in data.items():\n",
    "  print('\\n', data[df_name].info())"
   ]
  },
  {
   "cell_type": "markdown",
   "metadata": {
    "id": "1ZmjNccaNVDO"
   },
   "source": [
    "Semua nilai telah terisi lengkap, tidak terdapat nilai kosong (*null value*) pada tabel **day** maupun **hour**\n",
    "\n",
    "---"
   ]
  },
  {
   "cell_type": "markdown",
   "metadata": {
    "id": "6vwX9E1HMJwk"
   },
   "source": [
    "##### **1.2.2 Periksa Data Duplikat** #####"
   ]
  },
  {
   "cell_type": "code",
   "execution_count": 6,
   "metadata": {
    "colab": {
     "base_uri": "https://localhost:8080/",
     "height": 112
    },
    "id": "B-DDv29mMNqZ",
    "outputId": "da0f09f7-c9da-4bb6-837b-129fe222c1ba"
   },
   "outputs": [
    {
     "data": {
      "text/html": [
       "<div>\n",
       "<style scoped>\n",
       "    .dataframe tbody tr th:only-of-type {\n",
       "        vertical-align: middle;\n",
       "    }\n",
       "\n",
       "    .dataframe tbody tr th {\n",
       "        vertical-align: top;\n",
       "    }\n",
       "\n",
       "    .dataframe thead th {\n",
       "        text-align: right;\n",
       "    }\n",
       "</style>\n",
       "<table border=\"1\" class=\"dataframe\">\n",
       "  <thead>\n",
       "    <tr style=\"text-align: right;\">\n",
       "      <th></th>\n",
       "      <th>Total Sample Count</th>\n",
       "      <th>Duplicate Count</th>\n",
       "    </tr>\n",
       "  </thead>\n",
       "  <tbody>\n",
       "    <tr>\n",
       "      <th>day</th>\n",
       "      <td>731</td>\n",
       "      <td>0</td>\n",
       "    </tr>\n",
       "    <tr>\n",
       "      <th>hour</th>\n",
       "      <td>17379</td>\n",
       "      <td>0</td>\n",
       "    </tr>\n",
       "  </tbody>\n",
       "</table>\n",
       "</div>"
      ],
      "text/plain": [
       "      Total Sample Count  Duplicate Count\n",
       "day                  731                0\n",
       "hour               17379                0"
      ]
     },
     "execution_count": 6,
     "metadata": {},
     "output_type": "execute_result"
    }
   ],
   "source": [
    "# Membuat dictionary untuk menyimpan jumlah duplikasi dan total sampel\n",
    "duplicate_summary = {}\n",
    "total_samples = {}\n",
    "\n",
    "# Menghitung jumlah duplikasi dan total sampel untuk setiap DataFrame\n",
    "for name, dataframe in data.items():\n",
    "    duplicate_summary[name] = dataframe.duplicated().sum()  # Jumlah data duplikat\n",
    "    total_samples[name] = len(dataframe)  # Total jumlah data\n",
    "\n",
    "# Membuat DataFrame dari dictionary yang telah dibuat\n",
    "duplicates_df = pd.DataFrame.from_dict(duplicate_summary, orient='index', columns=['Duplicate Count'])\n",
    "samples_df = pd.DataFrame.from_dict(total_samples, orient='index', columns=['Total Sample Count'])\n",
    "\n",
    "# Menggabungkan kedua DataFrame secara horizontal\n",
    "result = pd.concat([samples_df, duplicates_df], axis=1)\n",
    "result"
   ]
  },
  {
   "cell_type": "markdown",
   "metadata": {
    "id": "T1vEn9DONnRO"
   },
   "source": [
    "Setelah dianalisis dan mencari duplikasi ternyata tidak teridentifikasi / tidak terdapat duplikat **(duplicate_count = 0)** baik pada tabel **day** dan **hour**\n",
    "\n",
    "\n",
    "---"
   ]
  },
  {
   "cell_type": "markdown",
   "metadata": {
    "id": "WDYLS7-vMaK6"
   },
   "source": [
    "##### **1.2.3 Periksa Nilai yang Hilang** #####"
   ]
  },
  {
   "cell_type": "code",
   "execution_count": 7,
   "metadata": {
    "colab": {
     "base_uri": "https://localhost:8080/"
    },
    "id": "xBueUnx2MdkR",
    "outputId": "ed0b0a32-10a7-41a4-8ac9-85f07eae9a42"
   },
   "outputs": [
    {
     "name": "stdout",
     "output_type": "stream",
     "text": [
      "day \n",
      " instant       0\n",
      "dteday        0\n",
      "season        0\n",
      "yr            0\n",
      "mnth          0\n",
      "holiday       0\n",
      "weekday       0\n",
      "workingday    0\n",
      "weathersit    0\n",
      "temp          0\n",
      "atemp         0\n",
      "hum           0\n",
      "windspeed     0\n",
      "casual        0\n",
      "registered    0\n",
      "cnt           0\n",
      "dtype: int64 \n",
      "\n",
      "hour \n",
      " instant       0\n",
      "dteday        0\n",
      "season        0\n",
      "yr            0\n",
      "mnth          0\n",
      "hr            0\n",
      "holiday       0\n",
      "weekday       0\n",
      "workingday    0\n",
      "weathersit    0\n",
      "temp          0\n",
      "atemp         0\n",
      "hum           0\n",
      "windspeed     0\n",
      "casual        0\n",
      "registered    0\n",
      "cnt           0\n",
      "dtype: int64 \n",
      "\n"
     ]
    }
   ],
   "source": [
    "# Initialize a dictionary to store null value counts for each DataFrame\n",
    "null_counts = {}\n",
    "\n",
    "# Calculate and store the null value counts for each DataFrame\n",
    "for df_name, df in data.items():\n",
    "    null_counts[df_name] = df.isna().sum()\n",
    "    print(df_name, '\\n', null_counts[df_name], '\\n')"
   ]
  },
  {
   "cell_type": "markdown",
   "metadata": {
    "id": "PH30qtJ3OBvL"
   },
   "source": [
    "Tidak terdapat nilai kosong (*null value*) pada tabel **day** maupun **hour**"
   ]
  },
  {
   "cell_type": "markdown",
   "metadata": {
    "id": "R-hrl3tNNBSA"
   },
   "source": [
    "#### **1.3 Data Cleaning**"
   ]
  },
  {
   "cell_type": "markdown",
   "metadata": {
    "id": "c0lAkdXONObE"
   },
   "source": [
    "##### **1.3.1 Day** #####\n",
    "\n",
    "*   Pada tabel **day** tidak ada nilai yang kosong, maka dari itu tidak perlu ada nilai yang harus diisi\n",
    "\n"
   ]
  },
  {
   "cell_type": "code",
   "execution_count": 8,
   "metadata": {
    "colab": {
     "base_uri": "https://localhost:8080/"
    },
    "id": "D_mdsUQiNjQk",
    "outputId": "7f24730a-5b3b-4f4a-ac84-d2ab927527a2"
   },
   "outputs": [
    {
     "name": "stdout",
     "output_type": "stream",
     "text": [
      "instant       0\n",
      "dteday        0\n",
      "season        0\n",
      "yr            0\n",
      "mnth          0\n",
      "holiday       0\n",
      "weekday       0\n",
      "workingday    0\n",
      "weathersit    0\n",
      "temp          0\n",
      "atemp         0\n",
      "hum           0\n",
      "windspeed     0\n",
      "casual        0\n",
      "registered    0\n",
      "cnt           0\n",
      "dtype: int64\n"
     ]
    }
   ],
   "source": [
    "print(day.isnull().sum())"
   ]
  },
  {
   "cell_type": "code",
   "execution_count": 9,
   "metadata": {
    "id": "lr8yneC0OF49"
   },
   "outputs": [],
   "source": [
    "day['dteday'] = pd.to_datetime(day['dteday'])"
   ]
  },
  {
   "cell_type": "markdown",
   "metadata": {
    "id": "wwh-HxH6PD_k"
   },
   "source": [
    "\n",
    "\n",
    "*   Kolom **dteday** saat ini bertipe object. Diubah menjadi datetime untuk analisis waktu yang lebih mudah.\n",
    "\n",
    "---\n",
    "\n",
    "\n",
    "\n"
   ]
  },
  {
   "cell_type": "code",
   "execution_count": 10,
   "metadata": {
    "id": "mex36ubRL4U3"
   },
   "outputs": [],
   "source": [
    "# Mapping weathersit ke deskriptif label\n",
    "weather_mapping = {\n",
    "    1: 'Cerah',\n",
    "    2: 'Mendung',\n",
    "    3: 'Hujan Ringan',\n",
    "    4: 'Hujan Berat'\n",
    "}"
   ]
  },
  {
   "cell_type": "code",
   "execution_count": 11,
   "metadata": {
    "id": "0hmRda_hmnGy"
   },
   "outputs": [],
   "source": [
    "day['weathersit'] = day['weathersit'].map(weather_mapping)"
   ]
  },
  {
   "cell_type": "markdown",
   "metadata": {
    "id": "MvkbpA-znO-Z"
   },
   "source": [
    "\n",
    "\n",
    "*   Kolom **weathersit** saat ini bertipe memiliki nilai deskriptif. Diubah\n",
    "menjadi datetime untuk analisis waktu yang lebih mudah.\n",
    "\n",
    "---"
   ]
  },
  {
   "cell_type": "markdown",
   "metadata": {
    "id": "WfPTALPyPWbP"
   },
   "source": [
    "1.3.2 Hour\n",
    "\n",
    "\n",
    "*   Pada tabel **hour** tidak ada nilai kosong sama seperti tabel **day**\n"
   ]
  },
  {
   "cell_type": "code",
   "execution_count": 12,
   "metadata": {
    "colab": {
     "base_uri": "https://localhost:8080/"
    },
    "id": "yA3ZlruKQAbx",
    "outputId": "46a4639c-c5d7-4dc7-9861-f72a64102ea3"
   },
   "outputs": [
    {
     "name": "stdout",
     "output_type": "stream",
     "text": [
      "instant       0\n",
      "dteday        0\n",
      "season        0\n",
      "yr            0\n",
      "mnth          0\n",
      "hr            0\n",
      "holiday       0\n",
      "weekday       0\n",
      "workingday    0\n",
      "weathersit    0\n",
      "temp          0\n",
      "atemp         0\n",
      "hum           0\n",
      "windspeed     0\n",
      "casual        0\n",
      "registered    0\n",
      "cnt           0\n",
      "dtype: int64\n"
     ]
    }
   ],
   "source": [
    "print(hour.isnull().sum())"
   ]
  },
  {
   "cell_type": "code",
   "execution_count": 13,
   "metadata": {
    "id": "6zJbEIG-QIIk"
   },
   "outputs": [],
   "source": [
    "hour['dteday'] = pd.to_datetime(hour['dteday'])"
   ]
  },
  {
   "cell_type": "markdown",
   "metadata": {
    "id": "zZgclmlAQPcv"
   },
   "source": [
    "\n",
    "\n",
    "*   Kolom **dteday** saat ini bertipe object. Diubah menjadi datetime untuk analisis waktu yang lebih mudah.\n",
    "\n",
    "---"
   ]
  },
  {
   "cell_type": "code",
   "execution_count": 14,
   "metadata": {
    "id": "LQqa5y6xnmAi"
   },
   "outputs": [],
   "source": [
    "hour['weathersit'] = hour['weathersit'].map(weather_mapping)"
   ]
  },
  {
   "cell_type": "markdown",
   "metadata": {
    "id": "fMAsgErln1SV"
   },
   "source": [
    "\n",
    "\n",
    "*   Kolom **weathersit** saat ini bertipe memiliki nilai deskriptif. Diubah\n",
    "menjadi datetime untuk analisis waktu yang lebih mudah.\n",
    "\n",
    "---"
   ]
  },
  {
   "cell_type": "markdown",
   "metadata": {
    "id": "rrxW_LpWQVhe"
   },
   "source": [
    "### **2. Exploratory Data Analysis (EDA)**"
   ]
  },
  {
   "cell_type": "markdown",
   "metadata": {
    "id": "kuooO_AsQhjE"
   },
   "source": [
    "#### 2.1 Explore Tabel **Day**"
   ]
  },
  {
   "cell_type": "code",
   "execution_count": 15,
   "metadata": {
    "colab": {
     "base_uri": "https://localhost:8080/",
     "height": 313
    },
    "id": "VAbJKB3bQtGI",
    "outputId": "e112c74c-9152-49b0-a18c-f9b8e2cc8088"
   },
   "outputs": [
    {
     "data": {
      "text/html": [
       "<div>\n",
       "<style scoped>\n",
       "    .dataframe tbody tr th:only-of-type {\n",
       "        vertical-align: middle;\n",
       "    }\n",
       "\n",
       "    .dataframe tbody tr th {\n",
       "        vertical-align: top;\n",
       "    }\n",
       "\n",
       "    .dataframe thead th {\n",
       "        text-align: right;\n",
       "    }\n",
       "</style>\n",
       "<table border=\"1\" class=\"dataframe\">\n",
       "  <thead>\n",
       "    <tr style=\"text-align: right;\">\n",
       "      <th></th>\n",
       "      <th>instant</th>\n",
       "      <th>dteday</th>\n",
       "      <th>season</th>\n",
       "      <th>yr</th>\n",
       "      <th>mnth</th>\n",
       "      <th>holiday</th>\n",
       "      <th>weekday</th>\n",
       "      <th>workingday</th>\n",
       "      <th>weathersit</th>\n",
       "      <th>temp</th>\n",
       "      <th>atemp</th>\n",
       "      <th>hum</th>\n",
       "      <th>windspeed</th>\n",
       "      <th>casual</th>\n",
       "      <th>registered</th>\n",
       "      <th>cnt</th>\n",
       "    </tr>\n",
       "  </thead>\n",
       "  <tbody>\n",
       "    <tr>\n",
       "      <th>278</th>\n",
       "      <td>279</td>\n",
       "      <td>2011-10-06</td>\n",
       "      <td>4</td>\n",
       "      <td>0</td>\n",
       "      <td>10</td>\n",
       "      <td>0</td>\n",
       "      <td>4</td>\n",
       "      <td>1</td>\n",
       "      <td>Cerah</td>\n",
       "      <td>0.494167</td>\n",
       "      <td>0.480425</td>\n",
       "      <td>0.620833</td>\n",
       "      <td>0.134954</td>\n",
       "      <td>639</td>\n",
       "      <td>4126</td>\n",
       "      <td>4765</td>\n",
       "    </tr>\n",
       "    <tr>\n",
       "      <th>323</th>\n",
       "      <td>324</td>\n",
       "      <td>2011-11-20</td>\n",
       "      <td>4</td>\n",
       "      <td>0</td>\n",
       "      <td>11</td>\n",
       "      <td>0</td>\n",
       "      <td>0</td>\n",
       "      <td>0</td>\n",
       "      <td>Mendung</td>\n",
       "      <td>0.463333</td>\n",
       "      <td>0.457058</td>\n",
       "      <td>0.684583</td>\n",
       "      <td>0.185950</td>\n",
       "      <td>787</td>\n",
       "      <td>2733</td>\n",
       "      <td>3520</td>\n",
       "    </tr>\n",
       "    <tr>\n",
       "      <th>474</th>\n",
       "      <td>475</td>\n",
       "      <td>2012-04-19</td>\n",
       "      <td>2</td>\n",
       "      <td>1</td>\n",
       "      <td>4</td>\n",
       "      <td>0</td>\n",
       "      <td>4</td>\n",
       "      <td>1</td>\n",
       "      <td>Cerah</td>\n",
       "      <td>0.498333</td>\n",
       "      <td>0.493046</td>\n",
       "      <td>0.612500</td>\n",
       "      <td>0.065929</td>\n",
       "      <td>846</td>\n",
       "      <td>5719</td>\n",
       "      <td>6565</td>\n",
       "    </tr>\n",
       "    <tr>\n",
       "      <th>376</th>\n",
       "      <td>377</td>\n",
       "      <td>2012-01-12</td>\n",
       "      <td>1</td>\n",
       "      <td>1</td>\n",
       "      <td>1</td>\n",
       "      <td>0</td>\n",
       "      <td>4</td>\n",
       "      <td>1</td>\n",
       "      <td>Mendung</td>\n",
       "      <td>0.382500</td>\n",
       "      <td>0.381938</td>\n",
       "      <td>0.802917</td>\n",
       "      <td>0.180967</td>\n",
       "      <td>269</td>\n",
       "      <td>3828</td>\n",
       "      <td>4097</td>\n",
       "    </tr>\n",
       "    <tr>\n",
       "      <th>328</th>\n",
       "      <td>329</td>\n",
       "      <td>2011-11-25</td>\n",
       "      <td>4</td>\n",
       "      <td>0</td>\n",
       "      <td>11</td>\n",
       "      <td>0</td>\n",
       "      <td>5</td>\n",
       "      <td>1</td>\n",
       "      <td>Cerah</td>\n",
       "      <td>0.375000</td>\n",
       "      <td>0.380671</td>\n",
       "      <td>0.643750</td>\n",
       "      <td>0.098896</td>\n",
       "      <td>1095</td>\n",
       "      <td>1697</td>\n",
       "      <td>2792</td>\n",
       "    </tr>\n",
       "  </tbody>\n",
       "</table>\n",
       "</div>"
      ],
      "text/plain": [
       "     instant     dteday  season  yr  mnth  holiday  weekday  workingday  \\\n",
       "278      279 2011-10-06       4   0    10        0        4           1   \n",
       "323      324 2011-11-20       4   0    11        0        0           0   \n",
       "474      475 2012-04-19       2   1     4        0        4           1   \n",
       "376      377 2012-01-12       1   1     1        0        4           1   \n",
       "328      329 2011-11-25       4   0    11        0        5           1   \n",
       "\n",
       "    weathersit      temp     atemp       hum  windspeed  casual  registered  \\\n",
       "278      Cerah  0.494167  0.480425  0.620833   0.134954     639        4126   \n",
       "323    Mendung  0.463333  0.457058  0.684583   0.185950     787        2733   \n",
       "474      Cerah  0.498333  0.493046  0.612500   0.065929     846        5719   \n",
       "376    Mendung  0.382500  0.381938  0.802917   0.180967     269        3828   \n",
       "328      Cerah  0.375000  0.380671  0.643750   0.098896    1095        1697   \n",
       "\n",
       "      cnt  \n",
       "278  4765  \n",
       "323  3520  \n",
       "474  6565  \n",
       "376  4097  \n",
       "328  2792  "
      ]
     },
     "execution_count": 15,
     "metadata": {},
     "output_type": "execute_result"
    }
   ],
   "source": [
    "data[\"day\"].sample(5)"
   ]
  },
  {
   "cell_type": "markdown",
   "metadata": {
    "id": "iFFQBEijRWx9"
   },
   "source": [
    "2.1.1 Menghitung jumlah total peminjaman sepeda (cnt) berdasarkan musim (season):"
   ]
  },
  {
   "cell_type": "code",
   "execution_count": 16,
   "metadata": {
    "colab": {
     "base_uri": "https://localhost:8080/"
    },
    "id": "YH_DHZG0RI23",
    "outputId": "749a3bf9-8177-4c7f-adf7-6676b8e78ef4"
   },
   "outputs": [
    {
     "data": {
      "text/plain": [
       "season\n",
       "3    1061129\n",
       "2     918589\n",
       "4     841613\n",
       "1     471348\n",
       "Name: cnt, dtype: int64"
      ]
     },
     "execution_count": 16,
     "metadata": {},
     "output_type": "execute_result"
    }
   ],
   "source": [
    "day.groupby(by=\"season\")['cnt'].sum().sort_values(ascending=False)"
   ]
  },
  {
   "cell_type": "markdown",
   "metadata": {
    "id": "jwiL51ezRbSp"
   },
   "source": [
    "2.1.2 Menghitung jumlah total peminjaman sepeda (cnt) berdasarkan bulan (mnth):"
   ]
  },
  {
   "cell_type": "code",
   "execution_count": 17,
   "metadata": {
    "colab": {
     "base_uri": "https://localhost:8080/"
    },
    "id": "xUv62bn0RhF4",
    "outputId": "65a41fd9-4b5a-4f06-8589-9dcec7f04509"
   },
   "outputs": [
    {
     "data": {
      "text/plain": [
       "mnth\n",
       "8     351194\n",
       "6     346342\n",
       "9     345991\n",
       "7     344948\n",
       "5     331686\n",
       "10    322352\n",
       "4     269094\n",
       "11    254831\n",
       "3     228920\n",
       "12    211036\n",
       "2     151352\n",
       "1     134933\n",
       "Name: cnt, dtype: int64"
      ]
     },
     "execution_count": 17,
     "metadata": {},
     "output_type": "execute_result"
    }
   ],
   "source": [
    "day.groupby(by=\"mnth\")['cnt'].sum().sort_values(ascending=False)\n"
   ]
  },
  {
   "cell_type": "markdown",
   "metadata": {
    "id": "tDF030x_RqIV"
   },
   "source": [
    "2.1.3 Menghitung jumlah unik hari (dteday) dalam setiap kategori cuaca (weathersit):"
   ]
  },
  {
   "cell_type": "code",
   "execution_count": 18,
   "metadata": {
    "colab": {
     "base_uri": "https://localhost:8080/"
    },
    "id": "Q7JwKcY-RuyY",
    "outputId": "07acd9b2-cec6-413a-c741-39cc31c5df8a"
   },
   "outputs": [
    {
     "data": {
      "text/plain": [
       "weathersit\n",
       "Cerah           463\n",
       "Mendung         247\n",
       "Hujan Ringan     21\n",
       "Name: dteday, dtype: int64"
      ]
     },
     "execution_count": 18,
     "metadata": {},
     "output_type": "execute_result"
    }
   ],
   "source": [
    "day.groupby(by=\"weathersit\")['dteday'].nunique().sort_values(ascending=False)\n"
   ]
  },
  {
   "cell_type": "markdown",
   "metadata": {
    "id": "WTeTK-M4R3zL"
   },
   "source": [
    "### 2.2 Explore Tabel **Hour**"
   ]
  },
  {
   "cell_type": "code",
   "execution_count": 19,
   "metadata": {
    "colab": {
     "base_uri": "https://localhost:8080/",
     "height": 313
    },
    "id": "cy_YlNLTSWhD",
    "outputId": "6326b918-a6b7-4eb9-f494-4638e2f13ee8"
   },
   "outputs": [
    {
     "data": {
      "text/html": [
       "<div>\n",
       "<style scoped>\n",
       "    .dataframe tbody tr th:only-of-type {\n",
       "        vertical-align: middle;\n",
       "    }\n",
       "\n",
       "    .dataframe tbody tr th {\n",
       "        vertical-align: top;\n",
       "    }\n",
       "\n",
       "    .dataframe thead th {\n",
       "        text-align: right;\n",
       "    }\n",
       "</style>\n",
       "<table border=\"1\" class=\"dataframe\">\n",
       "  <thead>\n",
       "    <tr style=\"text-align: right;\">\n",
       "      <th></th>\n",
       "      <th>instant</th>\n",
       "      <th>dteday</th>\n",
       "      <th>season</th>\n",
       "      <th>yr</th>\n",
       "      <th>mnth</th>\n",
       "      <th>hr</th>\n",
       "      <th>holiday</th>\n",
       "      <th>weekday</th>\n",
       "      <th>workingday</th>\n",
       "      <th>weathersit</th>\n",
       "      <th>temp</th>\n",
       "      <th>atemp</th>\n",
       "      <th>hum</th>\n",
       "      <th>windspeed</th>\n",
       "      <th>casual</th>\n",
       "      <th>registered</th>\n",
       "      <th>cnt</th>\n",
       "    </tr>\n",
       "  </thead>\n",
       "  <tbody>\n",
       "    <tr>\n",
       "      <th>5115</th>\n",
       "      <td>5116</td>\n",
       "      <td>2011-08-06</td>\n",
       "      <td>3</td>\n",
       "      <td>0</td>\n",
       "      <td>8</td>\n",
       "      <td>1</td>\n",
       "      <td>0</td>\n",
       "      <td>6</td>\n",
       "      <td>0</td>\n",
       "      <td>Cerah</td>\n",
       "      <td>0.66</td>\n",
       "      <td>0.6061</td>\n",
       "      <td>0.78</td>\n",
       "      <td>0.1642</td>\n",
       "      <td>17</td>\n",
       "      <td>50</td>\n",
       "      <td>67</td>\n",
       "    </tr>\n",
       "    <tr>\n",
       "      <th>8043</th>\n",
       "      <td>8044</td>\n",
       "      <td>2011-12-06</td>\n",
       "      <td>4</td>\n",
       "      <td>0</td>\n",
       "      <td>12</td>\n",
       "      <td>19</td>\n",
       "      <td>0</td>\n",
       "      <td>2</td>\n",
       "      <td>1</td>\n",
       "      <td>Hujan Ringan</td>\n",
       "      <td>0.46</td>\n",
       "      <td>0.4545</td>\n",
       "      <td>1.00</td>\n",
       "      <td>0.2985</td>\n",
       "      <td>10</td>\n",
       "      <td>223</td>\n",
       "      <td>233</td>\n",
       "    </tr>\n",
       "    <tr>\n",
       "      <th>5038</th>\n",
       "      <td>5039</td>\n",
       "      <td>2011-08-02</td>\n",
       "      <td>3</td>\n",
       "      <td>0</td>\n",
       "      <td>8</td>\n",
       "      <td>20</td>\n",
       "      <td>0</td>\n",
       "      <td>2</td>\n",
       "      <td>1</td>\n",
       "      <td>Mendung</td>\n",
       "      <td>0.82</td>\n",
       "      <td>0.7576</td>\n",
       "      <td>0.46</td>\n",
       "      <td>0.2537</td>\n",
       "      <td>40</td>\n",
       "      <td>248</td>\n",
       "      <td>288</td>\n",
       "    </tr>\n",
       "    <tr>\n",
       "      <th>5368</th>\n",
       "      <td>5369</td>\n",
       "      <td>2011-08-16</td>\n",
       "      <td>3</td>\n",
       "      <td>0</td>\n",
       "      <td>8</td>\n",
       "      <td>14</td>\n",
       "      <td>0</td>\n",
       "      <td>2</td>\n",
       "      <td>1</td>\n",
       "      <td>Cerah</td>\n",
       "      <td>0.76</td>\n",
       "      <td>0.6818</td>\n",
       "      <td>0.45</td>\n",
       "      <td>0.4179</td>\n",
       "      <td>65</td>\n",
       "      <td>117</td>\n",
       "      <td>182</td>\n",
       "    </tr>\n",
       "    <tr>\n",
       "      <th>9777</th>\n",
       "      <td>9778</td>\n",
       "      <td>2012-02-17</td>\n",
       "      <td>1</td>\n",
       "      <td>1</td>\n",
       "      <td>2</td>\n",
       "      <td>8</td>\n",
       "      <td>0</td>\n",
       "      <td>5</td>\n",
       "      <td>1</td>\n",
       "      <td>Mendung</td>\n",
       "      <td>0.26</td>\n",
       "      <td>0.3030</td>\n",
       "      <td>1.00</td>\n",
       "      <td>0.0000</td>\n",
       "      <td>4</td>\n",
       "      <td>516</td>\n",
       "      <td>520</td>\n",
       "    </tr>\n",
       "  </tbody>\n",
       "</table>\n",
       "</div>"
      ],
      "text/plain": [
       "      instant     dteday  season  yr  mnth  hr  holiday  weekday  workingday  \\\n",
       "5115     5116 2011-08-06       3   0     8   1        0        6           0   \n",
       "8043     8044 2011-12-06       4   0    12  19        0        2           1   \n",
       "5038     5039 2011-08-02       3   0     8  20        0        2           1   \n",
       "5368     5369 2011-08-16       3   0     8  14        0        2           1   \n",
       "9777     9778 2012-02-17       1   1     2   8        0        5           1   \n",
       "\n",
       "        weathersit  temp   atemp   hum  windspeed  casual  registered  cnt  \n",
       "5115         Cerah  0.66  0.6061  0.78     0.1642      17          50   67  \n",
       "8043  Hujan Ringan  0.46  0.4545  1.00     0.2985      10         223  233  \n",
       "5038       Mendung  0.82  0.7576  0.46     0.2537      40         248  288  \n",
       "5368         Cerah  0.76  0.6818  0.45     0.4179      65         117  182  \n",
       "9777       Mendung  0.26  0.3030  1.00     0.0000       4         516  520  "
      ]
     },
     "execution_count": 19,
     "metadata": {},
     "output_type": "execute_result"
    }
   ],
   "source": [
    "data[\"hour\"].sample(5)"
   ]
  },
  {
   "cell_type": "markdown",
   "metadata": {
    "id": "XYSYebfdSf0P"
   },
   "source": [
    "2.2.1 Menghitung jumlah total peminjaman sepeda (cnt) berdasarkan jam (hr):"
   ]
  },
  {
   "cell_type": "code",
   "execution_count": 20,
   "metadata": {
    "colab": {
     "base_uri": "https://localhost:8080/"
    },
    "id": "f12TPVTlS7H1",
    "outputId": "9d381a5d-6cc7-4fd4-b246-972e6d56cd0e"
   },
   "outputs": [
    {
     "data": {
      "text/plain": [
       "hr\n",
       "17    336860\n",
       "18    309772\n",
       "8     261001\n",
       "16    227748\n",
       "19    226789\n",
       "13    184919\n",
       "12    184414\n",
       "15    183149\n",
       "14    175652\n",
       "20    164550\n",
       "9     159438\n",
       "7     154171\n",
       "11    151320\n",
       "10    126257\n",
       "21    125445\n",
       "22     95612\n",
       "23     63941\n",
       "6      55132\n",
       "0      39130\n",
       "1      24164\n",
       "2      16352\n",
       "5      14261\n",
       "3       8174\n",
       "4       4428\n",
       "Name: cnt, dtype: int64"
      ]
     },
     "execution_count": 20,
     "metadata": {},
     "output_type": "execute_result"
    }
   ],
   "source": [
    "hour.groupby(by=\"hr\")['cnt'].sum().sort_values(ascending=False)\n"
   ]
  },
  {
   "cell_type": "markdown",
   "metadata": {
    "id": "s6Ljfh0mTM5E"
   },
   "source": [
    "2.2.2 Menghitung jumlah total peminjaman sepeda (cnt) berdasarkan hari dalam seminggu (weekday):"
   ]
  },
  {
   "cell_type": "code",
   "execution_count": 21,
   "metadata": {
    "colab": {
     "base_uri": "https://localhost:8080/"
    },
    "id": "3rRbfisoTQJY",
    "outputId": "cced1de0-5308-4781-8eca-266d08e89ec6"
   },
   "outputs": [
    {
     "data": {
      "text/plain": [
       "weekday\n",
       "5    487790\n",
       "4    485395\n",
       "6    477807\n",
       "3    473048\n",
       "2    469109\n",
       "1    455503\n",
       "0    444027\n",
       "Name: cnt, dtype: int64"
      ]
     },
     "execution_count": 21,
     "metadata": {},
     "output_type": "execute_result"
    }
   ],
   "source": [
    "hour.groupby(by=\"weekday\")['cnt'].sum().sort_values(ascending=False)\n"
   ]
  },
  {
   "cell_type": "markdown",
   "metadata": {
    "id": "1Rolhd8ETV_9"
   },
   "source": [
    "2.2.3 Menghitung jumlah total peminjaman sepeda (cnt) berdasarkan kategori cuaca (weathersit):"
   ]
  },
  {
   "cell_type": "code",
   "execution_count": 22,
   "metadata": {
    "colab": {
     "base_uri": "https://localhost:8080/"
    },
    "id": "BgPmi1jYTZtO",
    "outputId": "bd1bd94f-0a55-4edf-f625-8c903ee792c3"
   },
   "outputs": [
    {
     "data": {
      "text/plain": [
       "weathersit\n",
       "Cerah           2338173\n",
       "Mendung          795952\n",
       "Hujan Ringan     158331\n",
       "Hujan Berat         223\n",
       "Name: cnt, dtype: int64"
      ]
     },
     "execution_count": 22,
     "metadata": {},
     "output_type": "execute_result"
    }
   ],
   "source": [
    "hour.groupby(by=\"weathersit\")['cnt'].sum().sort_values(ascending=False)\n"
   ]
  },
  {
   "cell_type": "markdown",
   "metadata": {
    "id": "eTyrAfenTgT0"
   },
   "source": [
    "2.2.4 Menghitung jumlah unik jam (hr) berdasarkan musim (season):"
   ]
  },
  {
   "cell_type": "code",
   "execution_count": 23,
   "metadata": {
    "colab": {
     "base_uri": "https://localhost:8080/"
    },
    "id": "0xZowRWnTk_K",
    "outputId": "42e6b839-be49-4a3c-97ba-65e5de3d19c9"
   },
   "outputs": [
    {
     "data": {
      "text/plain": [
       "season\n",
       "1    24\n",
       "2    24\n",
       "3    24\n",
       "4    24\n",
       "Name: hr, dtype: int64"
      ]
     },
     "execution_count": 23,
     "metadata": {},
     "output_type": "execute_result"
    }
   ],
   "source": [
    "hour.groupby(by=\"season\")['hr'].nunique().sort_values(ascending=False)\n"
   ]
  },
  {
   "cell_type": "markdown",
   "metadata": {
    "id": "ljkk_2eFUgz4"
   },
   "source": [
    "### 2.3 Explore Day & Hour"
   ]
  },
  {
   "cell_type": "code",
   "execution_count": 24,
   "metadata": {
    "id": "BOt1HZKaUmDw"
   },
   "outputs": [],
   "source": [
    "# Mengagregasi data hour menjadi data harian berdasarkan tanggal (dteday)\n",
    "hourly_aggregated = hour.groupby('dteday').agg({\n",
    "    'cnt': 'sum',\n",
    "    'casual': 'sum',\n",
    "    'registered': 'sum',\n",
    "    'temp': 'mean',\n",
    "    'atemp': 'mean',\n",
    "    'hum': 'mean',\n",
    "    'windspeed': 'mean'\n",
    "}).reset_index()\n"
   ]
  },
  {
   "cell_type": "code",
   "execution_count": 25,
   "metadata": {
    "id": "BO00CBL1Uu2B"
   },
   "outputs": [],
   "source": [
    "# Merge data day dengan data agregasi dari hour berdasarkan dteday\n",
    "merged_data = pd.merge(day, hourly_aggregated, on='dteday', suffixes=('_day', '_hour'))\n"
   ]
  },
  {
   "cell_type": "code",
   "execution_count": 26,
   "metadata": {
    "colab": {
     "base_uri": "https://localhost:8080/"
    },
    "id": "h-FCraLMU6Tg",
    "outputId": "d2492eb7-36a3-43fc-c05d-37b5eb969b5b"
   },
   "outputs": [
    {
     "name": "stdout",
     "output_type": "stream",
     "text": [
      "   instant     dteday  season  yr  mnth  holiday  weekday  workingday  \\\n",
      "0        1 2011-01-01       1   0     1        0        6           0   \n",
      "1        2 2011-01-02       1   0     1        0        0           0   \n",
      "2        3 2011-01-03       1   0     1        0        1           1   \n",
      "3        4 2011-01-04       1   0     1        0        2           1   \n",
      "4        5 2011-01-05       1   0     1        0        3           1   \n",
      "\n",
      "  weathersit  temp_day  ...  casual_day  registered_day  cnt_day  cnt_hour  \\\n",
      "0    Mendung  0.344167  ...         331             654      985       985   \n",
      "1    Mendung  0.363478  ...         131             670      801       801   \n",
      "2      Cerah  0.196364  ...         120            1229     1349      1349   \n",
      "3      Cerah  0.200000  ...         108            1454     1562      1562   \n",
      "4      Cerah  0.226957  ...          82            1518     1600      1600   \n",
      "\n",
      "   casual_hour  registered_hour  temp_hour  atemp_hour  hum_hour  \\\n",
      "0          331              654   0.344167    0.363625  0.805833   \n",
      "1          131              670   0.363478    0.353739  0.696087   \n",
      "2          120             1229   0.196364    0.189405  0.437273   \n",
      "3          108             1454   0.200000    0.212122  0.590435   \n",
      "4           82             1518   0.226957    0.229270  0.436957   \n",
      "\n",
      "   windspeed_hour  \n",
      "0        0.160446  \n",
      "1        0.248539  \n",
      "2        0.248309  \n",
      "3        0.160296  \n",
      "4        0.186900  \n",
      "\n",
      "[5 rows x 23 columns]\n"
     ]
    }
   ],
   "source": [
    "print(merged_data.head())"
   ]
  },
  {
   "cell_type": "markdown",
   "metadata": {
    "id": "Emc33dgvV7M4"
   },
   "source": [
    "## 3. Visualization & Explanatory Analysis"
   ]
  },
  {
   "cell_type": "markdown",
   "metadata": {
    "id": "GTPcBEdOWLQC"
   },
   "source": [
    "##### **3.1 Bagaimana pengaruh cuaca terhadap jumlah peminjaman sepeda?** #####"
   ]
  },
  {
   "cell_type": "code",
   "execution_count": 27,
   "metadata": {
    "colab": {
     "base_uri": "https://localhost:8080/",
     "height": 645
    },
    "id": "EPekA9BOWEmN",
    "outputId": "3901da93-7bd9-40a7-9615-b672922f1d97"
   },
   "outputs": [
    {
     "ename": "NameError",
     "evalue": "name 'day_data' is not defined",
     "output_type": "error",
     "traceback": [
      "\u001b[1;31m---------------------------------------------------------------------------\u001b[0m",
      "\u001b[1;31mNameError\u001b[0m                                 Traceback (most recent call last)",
      "Cell \u001b[1;32mIn[27], line 5\u001b[0m\n\u001b[0;32m      3\u001b[0m \u001b[38;5;66;03m# Pertanyaan 1: Pengaruh cuaca terhadap jumlah peminjaman sepeda\u001b[39;00m\n\u001b[0;32m      4\u001b[0m weather_mapping \u001b[38;5;241m=\u001b[39m {\u001b[38;5;241m1\u001b[39m: \u001b[38;5;124m\"\u001b[39m\u001b[38;5;124mClear/Partly Cloudy\u001b[39m\u001b[38;5;124m\"\u001b[39m, \u001b[38;5;241m2\u001b[39m: \u001b[38;5;124m\"\u001b[39m\u001b[38;5;124mMisty/Cloudy\u001b[39m\u001b[38;5;124m\"\u001b[39m, \u001b[38;5;241m3\u001b[39m: \u001b[38;5;124m\"\u001b[39m\u001b[38;5;124mLight Rain/Snow\u001b[39m\u001b[38;5;124m\"\u001b[39m, \u001b[38;5;241m4\u001b[39m: \u001b[38;5;124m\"\u001b[39m\u001b[38;5;124mHeavy Rain/Snow\u001b[39m\u001b[38;5;124m\"\u001b[39m}\n\u001b[1;32m----> 5\u001b[0m day_data[\u001b[38;5;124m'\u001b[39m\u001b[38;5;124mweather_desc\u001b[39m\u001b[38;5;124m'\u001b[39m] \u001b[38;5;241m=\u001b[39m \u001b[43mday_data\u001b[49m[\u001b[38;5;124m'\u001b[39m\u001b[38;5;124mweathersit\u001b[39m\u001b[38;5;124m'\u001b[39m]\u001b[38;5;241m.\u001b[39mmap(weather_mapping)\n\u001b[0;32m      7\u001b[0m \u001b[38;5;66;03m# Agregasi data\u001b[39;00m\n\u001b[0;32m      8\u001b[0m weather_effect \u001b[38;5;241m=\u001b[39m day_data\u001b[38;5;241m.\u001b[39mgroupby(\u001b[38;5;124m'\u001b[39m\u001b[38;5;124mweather_desc\u001b[39m\u001b[38;5;124m'\u001b[39m)[\u001b[38;5;124m'\u001b[39m\u001b[38;5;124mcnt\u001b[39m\u001b[38;5;124m'\u001b[39m]\u001b[38;5;241m.\u001b[39mmean()\u001b[38;5;241m.\u001b[39msort_values()\n",
      "\u001b[1;31mNameError\u001b[0m: name 'day_data' is not defined"
     ]
    }
   ],
   "source": [
    "import seaborn as sns\n",
    "\n",
    "# Pertanyaan 1: Pengaruh cuaca terhadap jumlah peminjaman sepeda\n",
    "weather_mapping = {1: \"Clear/Partly Cloudy\", 2: \"Misty/Cloudy\", 3: \"Light Rain/Snow\", 4: \"Heavy Rain/Snow\"}\n",
    "day_data['weather_desc'] = day_data['weathersit'].map(weather_mapping)\n",
    "\n",
    "# Agregasi data\n",
    "weather_effect = day_data.groupby('weather_desc')['cnt'].mean().sort_values()\n",
    "\n",
    "# Visualisasi\n",
    "plt.figure(figsize=(10, 6))\n",
    "sns.barplot(x=weather_effect.index, y=weather_effect.values)\n",
    "plt.title(\"Pengaruh Cuaca Terhadap Jumlah Peminjaman Sepeda\", fontsize=14)\n",
    "plt.xlabel(\"Kondisi Cuaca\", fontsize=12)\n",
    "plt.ylabel(\"Rata-rata Jumlah Peminjaman\", fontsize=12)\n",
    "plt.xticks(rotation=45)\n",
    "plt.tight_layout()\n",
    "plt.show()\n"
   ]
  },
  {
   "cell_type": "markdown",
   "metadata": {
    "id": "L0bL4XlwXrSN"
   },
   "source": [
    "##### **3.2 Kapan waktu peminjaman sepeda paling ramai berdasarkan hari dalam seminggu dan jam dalam sehari?** #####"
   ]
  },
  {
   "cell_type": "code",
   "execution_count": 29,
   "metadata": {
    "colab": {
     "base_uri": "https://localhost:8080/",
     "height": 771
    },
    "id": "glElGz5kXtbw",
    "outputId": "138c5454-9598-4216-ee59-a0193c49b340"
   },
   "outputs": [
    {
     "data": {
      "image/png": "[encoded data removed]",
      "text/plain": [
       "<Figure size 1600x1000 with 2 Axes>"
      ]
     },
     "metadata": {},
     "output_type": "display_data"
    }
   ],
   "source": [
    "# Memetakan angka hari ke nama hari\n",
    "day_mapping = {\n",
    "    0: 'Minggu',\n",
    "    1: 'Senin',\n",
    "    2: 'Selasa',\n",
    "    3: 'Rabu',\n",
    "    4: 'Kamis',\n",
    "    5: 'Jumat',\n",
    "    6: 'Sabtu'\n",
    "}\n",
    "\n",
    "hour['weekday_name'] = hour['weekday'].map(day_mapping)\n",
    "\n",
    "# Heatmap: Peminjaman berdasarkan hari dan jam\n",
    "pivot_hour = hour.pivot_table(index='weekday_name', columns='hr', values='cnt', aggfunc='sum')\n",
    "pivot_hour = pivot_hour.reindex(['Senin', 'Selasa', 'Rabu', 'Kamis', 'Jumat', 'Sabtu', 'Minggu'])\n",
    "\n",
    "plt.figure(figsize=(16, 10))\n",
    "sns.heatmap(pivot_hour, cmap='YlGnBu', annot=False, fmt='.0f', linewidths=.5)\n",
    "plt.title('Jumlah Peminjaman Sepeda per Hari dan Jam', fontsize=16)\n",
    "plt.xlabel('Jam dalam Sehari', fontsize=12)\n",
    "plt.ylabel('Hari dalam Seminggu', fontsize=12)\n",
    "plt.tight_layout()\n",
    "plt.show()"
   ]
  },
  {
   "cell_type": "markdown",
   "metadata": {
    "id": "106KNCfuro7w"
   },
   "source": [
    "## 4. **Penerapan Teknik Analisis Lanjutan**"
   ]
  },
  {
   "cell_type": "markdown",
   "metadata": {
    "id": "2HcexFOSrxZP"
   },
   "source": [
    "##### **4.1 RFM Analysis** #####"
   ]
  },
  {
   "cell_type": "markdown",
   "metadata": {
    "id": "qc_suQALr_zB"
   },
   "source": [
    "RFM (Recency, Frequency, Monetary) analysis sering digunakan dalam konteks analisis pelanggan untuk mengidentifikasi perilaku pelanggan berdasarkan tiga dimensi:\n",
    "\n",
    "*   Recency: Seberapa baru transaksi terakhir pengguna.\n",
    "*   Frequency: Seberapa sering pengguna melakukan transaksi.\n",
    "*   Monetary: Total nilai transaksi yang dilakukan oleh pengguna.\n",
    "\n",
    "Dalam konteks data peminjaman sepeda, kita dapat mengadaptasi konsep RFM:\n",
    "\n",
    "*   Recency: Hari terakhir pengguna meminjam sepeda.\n",
    "*   Frequency: Jumlah total peminjaman sepeda oleh pengguna.\n",
    "*   Monetary: Total durasi atau jumlah peminjaman sepeda."
   ]
  },
  {
   "cell_type": "code",
   "execution_count": 60,
   "metadata": {
    "colab": {
     "base_uri": "https://localhost:8080/"
    },
    "id": "s3YGeitSshYD",
    "outputId": "faba5bbc-ebb9-4bd9-b478-ca0362a707eb"
   },
   "outputs": [
    {
     "name": "stdout",
     "output_type": "stream",
     "text": [
      "     Recency  Frequency  Monetary\n",
      "0        731          1       985\n",
      "1        730          1       801\n",
      "2        729          1      1349\n",
      "3        728          1      1562\n",
      "4        727          1      1600\n",
      "..       ...        ...       ...\n",
      "726        5          1      2114\n",
      "727        4          1      3095\n",
      "728        3          1      1341\n",
      "729        2          1      1796\n",
      "730        1          1      2729\n",
      "\n",
      "[731 rows x 3 columns]\n"
     ]
    }
   ],
   "source": [
    "day['dteday'] = pd.to_datetime(day['dteday'])\n",
    "\n",
    "# Assume user_id is 'instant' for the sake of analysis\n",
    "day['user_id'] = day['instant']\n",
    "\n",
    "# Reference date for Recency calculation\n",
    "reference_date = day['dteday'].max() + pd.Timedelta(days=1)\n",
    "\n",
    "# Calculate RFM\n",
    "rfm_df = day.groupby('user_id').agg({\n",
    "    'dteday': lambda x: (reference_date - x.max()).days,\n",
    "    'user_id': 'count',\n",
    "    'cnt': 'sum'\n",
    "}).reset_index(drop=True) # Drop the existing index to avoid the error\n",
    "\n",
    "rfm_df.columns = ['Recency', 'Frequency', 'Monetary'] # Adjust column names accordingly\n",
    "\n",
    "# Print RFM dataframe\n",
    "print(rfm_df)"
   ]
  },
  {
   "cell_type": "markdown",
   "metadata": {
    "id": "O9tbKZsCuKLD"
   },
   "source": [
    "##### **4.3 Clusterring** #####"
   ]
  },
  {
   "cell_type": "markdown",
   "metadata": {
    "id": "6F9a-XfcuQVQ"
   },
   "source": [
    "Setelah kita memiliki data RFM, kita dapat melakukan clustering untuk mengidentifikasi kelompok pengguna yang serupa."
   ]
  },
  {
   "cell_type": "code",
   "execution_count": 106,
   "metadata": {
    "colab": {
     "base_uri": "https://localhost:8080/",
     "height": 818
    },
    "id": "l_rdISZeuND0",
    "outputId": "521018eb-45b0-425e-e0b4-6a0df601aafa",
    "scrolled": true
   },
   "outputs": [
    {
     "data": {
      "image/png": "[encoded data removed]",
      "text/plain": [
       "<Figure size 1000x600 with 1 Axes>"
      ]
     },
     "metadata": {},
     "output_type": "display_data"
    },
    {
     "name": "stdout",
     "output_type": "stream",
     "text": [
      "     Recency  Frequency  Monetary  Cluster\n",
      "0        731          1       985        2\n",
      "1        730          1       801        2\n",
      "2        729          1      1349        2\n",
      "3        728          1      1562        2\n",
      "4        727          1      1600        2\n",
      "..       ...        ...       ...      ...\n",
      "726        5          1      2114        0\n",
      "727        4          1      3095        1\n",
      "728        3          1      1341        0\n",
      "729        2          1      1796        0\n",
      "730        1          1      2729        1\n",
      "\n",
      "[731 rows x 4 columns]\n"
     ]
    }
   ],
   "source": [
    "# Konversi kolom 'dteday' menjadi tipe datetime \n",
    "day['dteday'] = pd.to_datetime(day['dteday'])\n",
    "day['user_id'] = day['instant'] # Kolom user_id untuk identifikasi pelanggan\n",
    "\n",
    "# Tentukan tanggal referensi untuk perhitungan Recency\n",
    "reference_date = day['dteday'].max() + pd.Timedelta(days=1)\n",
    "\n",
    "# Menghitung RFM (Recency, Frequency, Monetary)\n",
    "rfm_df = day.groupby('user_id').agg({\n",
    "    'dteday': lambda x: (reference_date - x.max()).days, # Recency: Jarak hari sejak transaksi terakhir\n",
    "    'user_id': 'count', # Frequency: Jumlah transaksi\n",
    "    'cnt': 'sum' # Monetary: Total nilai transaksi\n",
    "}).reset_index(drop=True)\n",
    "\n",
    "# Ubah nama kolom agar lebih jelas\n",
    "rfm_df.columns = ['Recency', 'Frequency', 'Monetary']\n",
    "\n",
    "# Standarisasi data RFM menggunakan StandardScaler\n",
    "scaler = StandardScaler()\n",
    "rfm_scaled = scaler.fit_transform(rfm_df[['Recency', 'Frequency', 'Monetary']]) # Standarisasi kolom RFM\n",
    "\n",
    "# Menentukan jumlah cluster optimal menggunakan metode Elbow\n",
    "wcss = []\n",
    "for k in range(1, 11):\n",
    "    kmeans = KMeans(n_clusters=k, random_state=42, n_init=10)\n",
    "    kmeans.fit(rfm_scaled)\n",
    "    wcss.append(kmeans.inertia_)\n",
    "\n",
    "# Plot Elbow Method\n",
    "plt.figure(figsize=(10, 6))\n",
    "plt.plot(range(1, 11), wcss, marker='o')\n",
    "plt.title('Elbow Method for Optimal Number of Clusters', fontsize=16)\n",
    "plt.xlabel('Number of Clusters', fontsize=12)\n",
    "plt.ylabel('WCSS', fontsize=12)\n",
    "plt.show()\n",
    "\n",
    "# Membuat clustering dengan jumlah cluster optimal\n",
    "optimal_clusters = 3\n",
    "kmeans = KMeans(n_clusters=optimal_clusters, random_state=42, n_init=10)\n",
    "rfm_df['Cluster'] = kmeans.fit_predict(rfm_scaled)\n",
    "\n",
    "# Cetak DataFrame RFM dengan hasil clustering\n",
    "print(rfm_df)"
   ]
  },
  {
   "cell_type": "code",
   "execution_count": 68,
   "metadata": {
    "colab": {
     "base_uri": "https://localhost:8080/",
     "height": 363
    },
    "id": "Ql7PJP1WvxIL",
    "outputId": "7a562bb5-20a9-482f-ed21-fe31c958f84e"
   },
   "outputs": [
    {
     "data": {
      "text/html": [
       "<div>\n",
       "<style scoped>\n",
       "    .dataframe tbody tr th:only-of-type {\n",
       "        vertical-align: middle;\n",
       "    }\n",
       "\n",
       "    .dataframe tbody tr th {\n",
       "        vertical-align: top;\n",
       "    }\n",
       "\n",
       "    .dataframe thead th {\n",
       "        text-align: right;\n",
       "    }\n",
       "</style>\n",
       "<table border=\"1\" class=\"dataframe\">\n",
       "  <thead>\n",
       "    <tr style=\"text-align: right;\">\n",
       "      <th></th>\n",
       "      <th>Recency</th>\n",
       "      <th>Frequency</th>\n",
       "      <th>Monetary</th>\n",
       "      <th>Cluster</th>\n",
       "    </tr>\n",
       "  </thead>\n",
       "  <tbody>\n",
       "    <tr>\n",
       "      <th>0</th>\n",
       "      <td>731</td>\n",
       "      <td>1</td>\n",
       "      <td>985</td>\n",
       "      <td>2</td>\n",
       "    </tr>\n",
       "    <tr>\n",
       "      <th>1</th>\n",
       "      <td>730</td>\n",
       "      <td>1</td>\n",
       "      <td>801</td>\n",
       "      <td>2</td>\n",
       "    </tr>\n",
       "    <tr>\n",
       "      <th>2</th>\n",
       "      <td>729</td>\n",
       "      <td>1</td>\n",
       "      <td>1349</td>\n",
       "      <td>2</td>\n",
       "    </tr>\n",
       "    <tr>\n",
       "      <th>3</th>\n",
       "      <td>728</td>\n",
       "      <td>1</td>\n",
       "      <td>1562</td>\n",
       "      <td>2</td>\n",
       "    </tr>\n",
       "    <tr>\n",
       "      <th>4</th>\n",
       "      <td>727</td>\n",
       "      <td>1</td>\n",
       "      <td>1600</td>\n",
       "      <td>2</td>\n",
       "    </tr>\n",
       "    <tr>\n",
       "      <th>5</th>\n",
       "      <td>726</td>\n",
       "      <td>1</td>\n",
       "      <td>1606</td>\n",
       "      <td>2</td>\n",
       "    </tr>\n",
       "    <tr>\n",
       "      <th>6</th>\n",
       "      <td>725</td>\n",
       "      <td>1</td>\n",
       "      <td>1510</td>\n",
       "      <td>2</td>\n",
       "    </tr>\n",
       "    <tr>\n",
       "      <th>7</th>\n",
       "      <td>724</td>\n",
       "      <td>1</td>\n",
       "      <td>959</td>\n",
       "      <td>2</td>\n",
       "    </tr>\n",
       "    <tr>\n",
       "      <th>8</th>\n",
       "      <td>723</td>\n",
       "      <td>1</td>\n",
       "      <td>822</td>\n",
       "      <td>2</td>\n",
       "    </tr>\n",
       "    <tr>\n",
       "      <th>9</th>\n",
       "      <td>722</td>\n",
       "      <td>1</td>\n",
       "      <td>1321</td>\n",
       "      <td>2</td>\n",
       "    </tr>\n",
       "  </tbody>\n",
       "</table>\n",
       "</div>"
      ],
      "text/plain": [
       "   Recency  Frequency  Monetary  Cluster\n",
       "0      731          1       985        2\n",
       "1      730          1       801        2\n",
       "2      729          1      1349        2\n",
       "3      728          1      1562        2\n",
       "4      727          1      1600        2\n",
       "5      726          1      1606        2\n",
       "6      725          1      1510        2\n",
       "7      724          1       959        2\n",
       "8      723          1       822        2\n",
       "9      722          1      1321        2"
      ]
     },
     "execution_count": 68,
     "metadata": {},
     "output_type": "execute_result"
    }
   ],
   "source": [
    "rfm_df.head(10)"
   ]
  },
  {
   "cell_type": "markdown",
   "metadata": {
    "id": "9EQ2yHX6vrqw"
   },
   "source": [
    "Cluster di atas dapat diinterpretasikan sebagai berikut:\n",
    "\n",
    "\n",
    "*   Cluster 0: Pengguna yang cenderung melakukan transaksi dengan jumlah Monetary yang menengah. Mereka cenderung memiliki Recency yang lebih tinggi, menunjukkan bahwa mereka telah melakukan transaksi lebih lama.\n",
    "*   Cluster 1: Pengguna dengan Monetary yang lebih tinggi dan Recency yang lebih rendah. Ini adalah pengguna yang relatif baru dan melakukan transaksi dengan jumlah uang yang besar.\n",
    "*   Cluster 2: Pengguna dengan Monetary yang lebih rendah dan Recency yang lebih tinggi. Mereka adalah pengguna yang sudah lama melakukan transaksi tetapi dengan jumlah yang lebih kecil.\n"
   ]
  },
  {
   "cell_type": "markdown",
   "metadata": {
    "id": "HsKA9CXmYMKr"
   },
   "source": [
    "## **5. Kesimpulan**\n"
   ]
  },
  {
   "cell_type": "markdown",
   "metadata": {
    "id": "QYfylSdaYPWl"
   },
   "source": [
    "\n",
    "\n",
    "*   Pengaruh Cuaca terhadap Jumlah Peminjaman Sepeda\n",
    "      Berdasarkan visualisasi data, dapat disimpulkan bahwa kondisi cuaca memiliki pengaruh signifikan terhadap jumlah peminjaman sepeda:\n",
    "\n",
    "      1. Cuaca Cerah dan Berawan: Jumlah peminjaman sepeda cenderung lebih tinggi ketika cuaca baik, yaitu pada kondisi cuaca cerah atau sedikit berawan. Ini dapat dilihat dari distribusi peminjaman yang lebih tinggi pada kategori weathersit 1 dan 2, yang merepresentasikan cuaca cerah hingga berawan.\n",
    "      2. Cuaca Buruk: Pada kondisi cuaca buruk (kategori weathersit 3 dan 4, yang mencakup berawan tebal hingga hujan lebat), jumlah peminjaman sepeda menurun signifikan. Ini menunjukkan bahwa cuaca buruk berdampak negatif terhadap jumlah peminjaman sepeda.\n",
    "\n",
    "*   Waktu Peminjaman Sepeda Paling Ramai berdasarkan Hari dalam Seminggu dan Jam dalam Sehari\n",
    "\n",
    "      1. Hari Kerja vs. Akhir Pekan: Peminjaman sepeda cenderung lebih tinggi pada hari kerja dibandingkan dengan akhir pekan. Ini mungkin disebabkan oleh penggunaan sepeda sebagai alat transportasi untuk bekerja atau keperluan lain selama hari kerja.\n",
    "      2. Jam Sibuk: Pada hari kerja, terdapat dua puncak utama dalam peminjaman sepeda:\n",
    "\n",
    "        *   Pagi hari (sekitar pukul 7-9): Waktu ini mungkin terkait dengan perjalanan orang ke tempat kerja atau sekolah.\n",
    "\n",
    "        *  Sore hari (sekitar pukul 17-19): Waktu ini kemungkinan besar terkait dengan perjalanan pulang dari tempat kerja atau sekolah.\n",
    "      3. Akhir Pekan: Peminjaman sepeda pada akhir pekan lebih merata sepanjang hari, dengan sedikit peningkatan pada siang hari. Ini menunjukkan penggunaan sepeda lebih untuk rekreasi atau aktivitas santai.\n",
    "\n",
    "\n",
    "*   Dari analisis RFM dan clustering, kita dapat menyimpulkan bahwa:\n",
    "\n",
    "    1.   Pengguna dibagi menjadi tiga kelompok utama berdasarkan perilaku mereka:\n",
    "\n",
    "        *   Pengguna lama dengan transaksi jumlah menengah.\n",
    "        *   Pengguna baru dengan transaksi jumlah tinggi.\n",
    "        *   Pengguna lama dengan transaksi jumlah rendah.\n",
    "\n",
    "    2.   Strategi pemasaran dapat disesuaikan untuk masing-masing kelompok:\n",
    "\n",
    "        *   Cluster 0: Mungkin perlu penawaran khusus untuk mengaktifkan kembali pengguna lama yang memiliki potensi nilai transaksi yang menengah.\n",
    "        *   Cluster 1: Fokus pada retensi pengguna dengan menawarkan program loyalitas atau insentif tambahan untuk mempertahankan mereka.\n",
    "        *   Cluster 2: Dapat diberikan promosi atau diskon untuk meningkatkan jumlah transaksi mereka.\n",
    "\n",
    "\n",
    "\n",
    "\n",
    "\n",
    "\n",
    "\n",
    "\n",
    "\n",
    "\n",
    "\n",
    "\n",
    "\n",
    "\n",
    "\n"
   ]
  },
  {
   "cell_type": "code",
   "execution_count": null,
   "metadata": {},
   "outputs": [],
   "source": []
  }
 ],
 "metadata": {
  "colab": {
   "provenance": []
  },
  "kernelspec": {
   "display_name": "Python 3 (ipykernel)",
   "language": "python",
   "name": "python3"
  },
  "language_info": {
   "codemirror_mode": {
    "name": "ipython",
    "version": 3
   },
   "file_extension": ".py",
   "mimetype": "text/x-python",
   "name": "python",
   "nbconvert_exporter": "python",
   "pygments_lexer": "ipython3",
   "version": "3.12.4"
  }
 },
 "nbformat": 4,
 "nbformat_minor": 4
}
